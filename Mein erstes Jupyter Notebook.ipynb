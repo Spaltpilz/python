{
    "cells": [
        {
            "cell_type": "markdown",
            "metadata": {
                "collapsed": true
            },
            "source": "# \u00dcberschrift\nErste Code-Zeile\n"
        },
        {
            "cell_type": "code",
            "execution_count": 1,
            "metadata": {},
            "outputs": [
                {
                    "data": {
                        "text/html": "<div>\n<style scoped>\n    .dataframe tbody tr th:only-of-type {\n        vertical-align: middle;\n    }\n\n    .dataframe tbody tr th {\n        vertical-align: top;\n    }\n\n    .dataframe thead th {\n        text-align: right;\n    }\n</style>\n<table border=\"1\" class=\"dataframe\">\n  <thead>\n    <tr style=\"text-align: right;\">\n      <th></th>\n      <th>Mitarbeiter-ID</th>\n      <th>Name</th>\n      <th>Titel</th>\n      <th>Manager-ID</th>\n      <th>Rollentyp</th>\n    </tr>\n  </thead>\n  <tbody>\n    <tr>\n      <th>0</th>\n      <td>ID1</td>\n      <td>Bianca Toscano</td>\n      <td>Vorstandsmitglied</td>\n      <td>NaN</td>\n      <td>F\u00fchrung</td>\n    </tr>\n    <tr>\n      <th>1</th>\n      <td>ID2</td>\n      <td>Aasa Andrejev</td>\n      <td>Manager, Marketing</td>\n      <td>ID1</td>\n      <td>Manager</td>\n    </tr>\n    <tr>\n      <th>2</th>\n      <td>ID3</td>\n      <td>Paul Lohmus</td>\n      <td>Inhaltsbesitzer</td>\n      <td>ID2</td>\n      <td>Stab</td>\n    </tr>\n    <tr>\n      <th>3</th>\n      <td>ID4</td>\n      <td>Sergio Udinese</td>\n      <td>PR-Koordinatorin</td>\n      <td>ID2</td>\n      <td>Stab</td>\n    </tr>\n    <tr>\n      <th>4</th>\n      <td>ID6</td>\n      <td>Mai Aare</td>\n      <td>Manager, Produkte</td>\n      <td>ID1</td>\n      <td>Manager</td>\n    </tr>\n  </tbody>\n</table>\n</div>",
                        "text/plain": "  Mitarbeiter-ID            Name               Titel Manager-ID Rollentyp\n0            ID1  Bianca Toscano   Vorstandsmitglied        NaN   F\u00fchrung\n1            ID2   Aasa Andrejev  Manager, Marketing        ID1   Manager\n2            ID3     Paul Lohmus     Inhaltsbesitzer        ID2      Stab\n3            ID4  Sergio Udinese    PR-Koordinatorin        ID2      Stab\n4            ID6        Mai Aare   Manager, Produkte        ID1   Manager"
                    },
                    "execution_count": 1,
                    "metadata": {},
                    "output_type": "execute_result"
                }
            ],
            "source": "# The code was removed by Watson Studio for sharing."
        },
        {
            "cell_type": "code",
            "execution_count": null,
            "metadata": {},
            "outputs": [],
            "source": ""
        }
    ],
    "metadata": {
        "kernelspec": {
            "display_name": "Python 3.10",
            "language": "python",
            "name": "python3"
        },
        "language_info": {
            "codemirror_mode": {
                "name": "ipython",
                "version": 3
            },
            "file_extension": ".py",
            "mimetype": "text/x-python",
            "name": "python",
            "nbconvert_exporter": "python",
            "pygments_lexer": "ipython3",
            "version": "3.10.9"
        }
    },
    "nbformat": 4,
    "nbformat_minor": 1
}